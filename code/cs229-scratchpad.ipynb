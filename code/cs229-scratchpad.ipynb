{
 "cells": [
  {
   "cell_type": "code",
   "execution_count": 1,
   "metadata": {},
   "outputs": [
    {
     "ename": "ModuleNotFoundError",
     "evalue": "No module named 'numpy'",
     "output_type": "error",
     "traceback": [
      "\u001b[0;31m---------------------------------------------------------------------------\u001b[0m",
      "\u001b[0;31mModuleNotFoundError\u001b[0m                       Traceback (most recent call last)",
      "\u001b[1;32m/Users/johnnydevriese/projects/jupyter/cs229-scratchpad.ipynb Cell 1'\u001b[0m in \u001b[0;36m<cell line: 1>\u001b[0;34m()\u001b[0m\n\u001b[0;32m----> <a href='vscode-notebook-cell:/Users/johnnydevriese/projects/jupyter/cs229-scratchpad.ipynb#ch0000000?line=0'>1</a>\u001b[0m \u001b[39mimport\u001b[39;00m \u001b[39mnumpy\u001b[39;00m \u001b[39mas\u001b[39;00m \u001b[39mnp\u001b[39;00m\n\u001b[1;32m      <a href='vscode-notebook-cell:/Users/johnnydevriese/projects/jupyter/cs229-scratchpad.ipynb#ch0000000?line=2'>3</a>\u001b[0m x \u001b[39m=\u001b[39m np\u001b[39m.\u001b[39marray([\u001b[39m1\u001b[39m, \u001b[39m2\u001b[39m, \u001b[39m3\u001b[39m])\n\u001b[1;32m      <a href='vscode-notebook-cell:/Users/johnnydevriese/projects/jupyter/cs229-scratchpad.ipynb#ch0000000?line=3'>4</a>\u001b[0m y \u001b[39m=\u001b[39m np\u001b[39m.\u001b[39marray([\u001b[39m4\u001b[39m, \u001b[39m5\u001b[39m, \u001b[39m6\u001b[39m])\n",
      "\u001b[0;31mModuleNotFoundError\u001b[0m: No module named 'numpy'"
     ]
    }
   ],
   "source": [
    "import numpy as np\n",
    "\n",
    "x = np.array([1, 2, 3])\n",
    "y = np.array([4, 5, 6])\n",
    "\n",
    "print(x.size)\n",
    "k = 5\n",
    "for k in range(k+1):\n",
    "    print(k)\n",
    "    foo = np.power(x[1], k)\n",
    "\n",
    "# todo: need to build a matrix \n",
    "x[1] ** np.arange(k)\n",
    "\n",
    "\n",
    "# polyn = np.array([1, np.power(x[0], )])"
   ]
  },
  {
   "cell_type": "code",
   "execution_count": null,
   "metadata": {},
   "outputs": [],
   "source": []
  },
  {
   "cell_type": "code",
   "execution_count": 45,
   "metadata": {},
   "outputs": [
    {
     "name": "stdout",
     "output_type": "stream",
     "text": [
      "[[8.41470985e-01 1.00000000e+00 1.00000000e+00 1.00000000e+00\n",
      "  1.00000000e+00 1.00000000e+00 1.00000000e+00]\n",
      " [9.09297427e-01 1.00000000e+00 2.00000000e+00 4.00000000e+00\n",
      "  8.00000000e+00 1.60000000e+01 3.20000000e+01]\n",
      " [1.41120008e-01 1.00000000e+00 3.00000000e+00 9.00000000e+00\n",
      "  2.70000000e+01 8.10000000e+01 2.43000000e+02]]\n",
      "(3, 7)\n"
     ]
    },
    {
     "data": {
      "text/plain": [
       "array([   8.75909112,   15.        ,   32.        ,   78.        ,\n",
       "        206.        ,  570.        , 1622.        ])"
      ]
     },
     "execution_count": 45,
     "metadata": {},
     "output_type": "execute_result"
    }
   ],
   "source": [
    "X = np.array([])\n",
    "\n",
    "# Build out our matrix X \n",
    "for feature in x:\n",
    "    feature_vec = feature ** np.arange(k+1)\n",
    "    # print(feature_vec)\n",
    "    X = np.append(X, np.sin(feature))\n",
    "    X = np.append(X, feature_vec)\n",
    "\n",
    "X = X.reshape(3, k+2)\n",
    "print(X)\n",
    "print(X.shape)\n",
    "\n",
    "X.T @ y"
   ]
  },
  {
   "cell_type": "code",
   "execution_count": null,
   "metadata": {},
   "outputs": [],
   "source": []
  },
  {
   "cell_type": "markdown",
   "metadata": {},
   "source": [
    "# PS1: 3 Logistic Regression: Training Stability  "
   ]
  },
  {
   "cell_type": "code",
   "execution_count": 32,
   "metadata": {},
   "outputs": [
    {
     "data": {
      "text/plain": [
       "[Text(0.5, 1.0, 'ds1_a.csv data')]"
      ]
     },
     "execution_count": 32,
     "metadata": {},
     "output_type": "execute_result"
    },
    {
     "data": {
      "image/png": "[encoded data removed]",
      "text/plain": [
       "<Figure size 432x288 with 1 Axes>"
      ]
     },
     "metadata": {
      "needs_background": "light"
     },
     "output_type": "display_data"
    }
   ],
   "source": [
    "import pandas as pd \n",
    "import numpy as np\n",
    "import matplotlib.pyplot as plt\n",
    "import seaborn as sns\n",
    "\n",
    "df_a = pd.read_csv(\"/Users/johnnydevriese/Documents/cs229-spring-22/XCS229-PS1/stability/ds1_a.csv\")\n",
    "df_b = pd.read_csv(\"/Users/johnnydevriese/Documents/cs229-spring-22/XCS229-PS1/stability/ds1_b.csv\")\n",
    "\n",
    "# print(df_a.head())\n",
    "# print(df_b.head())\n",
    "\n",
    "sns.scatterplot(data=df_a, x=\"x0\", y=\"x1\", hue=\"y\").set(title='ds1_a.csv data')\n",
    "# sns.scatterplot(data=df_b, x=\"x0\", y=\"x1\", hue=\"y\").set(title='ds1_b.csv data')\n"
   ]
  },
  {
   "cell_type": "code",
   "execution_count": 53,
   "metadata": {},
   "outputs": [
    {
     "data": {
      "text/plain": [
       "array([2., 2., 2., 2., 2., 2., 2., 2., 2., 2., 2., 2., 2., 2., 2., 2., 2.,\n",
       "       2., 2., 2., 2., 2., 2., 2., 2., 2., 2., 2., 2., 2., 2., 2., 2., 2.,\n",
       "       2., 2., 2., 2., 2., 2., 2., 2., 2., 2., 2., 2., 2., 2., 2., 2., 2.,\n",
       "       2., 2., 2., 2., 2., 2., 2., 2., 2., 2., 2., 2., 2., 2., 2., 2., 2.,\n",
       "       2., 2., 2., 2., 2., 2., 2., 2., 2., 2., 2., 2., 2., 2., 2., 2., 2.,\n",
       "       2., 2., 2., 2., 2., 2., 2., 2., 2., 2., 2., 2., 2., 2., 2.])"
      ]
     },
     "execution_count": 53,
     "metadata": {},
     "output_type": "execute_result"
    }
   ],
   "source": [
    "import numpy as np\n",
    "\n",
    "size = 3\n",
    "\n",
    "theta = np.zeros(size)\n",
    "# x = np.ones(size)\n",
    "# x.dot(theta)\n",
    "sigmoid = lambda x: 1 / 1 + np.exp(- x @ theta)\n",
    "\n",
    "sigmoid(x)"
   ]
  },
  {
   "cell_type": "code",
   "execution_count": 51,
   "metadata": {},
   "outputs": [],
   "source": [
    "x = np.array([[ 1.        , -0.3226045 ,  1.44016009],\n",
    "       [ 1.        ,  1.45213116,  2.26274285],\n",
    "       [ 1.        ,  0.85117646,  0.87461786],\n",
    "       [ 1.        , -0.42506633,  0.49448067],\n",
    "       [ 1.        ,  1.07977541,  4.15222455],\n",
    "       [ 1.        ,  0.06839514,  3.60693507],\n",
    "       [ 1.        ,  3.86229163, 25.99079097],\n",
    "       [ 1.        ,  0.63078087,  0.69715553],\n",
    "       [ 1.        , -0.64119999,  0.07896407],\n",
    "       [ 1.        ,  0.53135242,  4.50417546],\n",
    "       [ 1.        ,  2.19032426,  6.54381687],\n",
    "       [ 1.        , -0.38465533,  0.42296288],\n",
    "       [ 1.        ,  0.21679465,  5.01812571],\n",
    "       [ 1.        ,  0.4846679 ,  1.36387124],\n",
    "       [ 1.        ,  2.39608694, 10.87208984],\n",
    "       [ 1.        , -0.51197311,  0.86848666],\n",
    "       [ 1.        ,  0.61284557,  1.92105571],\n",
    "       [ 1.        ,  1.20247   ,  1.39818937],\n",
    "       [ 1.        ,  2.48716225,  4.41633191],\n",
    "       [ 1.        ,  0.27191322,  2.48805513],\n",
    "       [ 1.        ,  0.46650294,  3.4560205 ],\n",
    "       [ 1.        , -0.77155423,  0.70674626],\n",
    "       [ 1.        ,  0.74548073,  0.78677636],\n",
    "       [ 1.        ,  1.34588118,  1.84466679],\n",
    "       [ 1.        ,  0.03825659,  1.37679837],\n",
    "       [ 1.        ,  0.97144296,  2.33499786],\n",
    "       [ 1.        ,  0.73578508,  5.36219354],\n",
    "       [ 1.        , -0.98294485,  0.60613226],\n",
    "       [ 1.        , -1.06748414,  0.51752952],\n",
    "       [ 1.        ,  0.16444179,  1.19318199],\n",
    "       [ 1.        , -0.7898848 ,  1.0424866 ],\n",
    "       [ 1.        , -0.14329976,  0.56735751],\n",
    "       [ 1.        , -0.82024735,  0.49960062],\n",
    "       [ 1.        ,  0.66933574,  2.03132583],\n",
    "       [ 1.        ,  2.18580501,  4.79542536],\n",
    "       [ 1.        ,  1.24524603,  2.22477477],\n",
    "       [ 1.        , -0.38608243,  1.17125926],\n",
    "       [ 1.        ,  1.97265966,  0.94942542],\n",
    "       [ 1.        ,  0.11536834,  0.41934752],\n",
    "       [ 1.        , -0.62494875,  0.36937505],\n",
    "       [ 1.        ,  0.73560961,  2.00940088],\n",
    "       [ 1.        ,  1.79850535,  1.03246785],\n",
    "       [ 1.        , -0.14833684,  0.46835912],\n",
    "       [ 1.        , -0.09403357,  1.07422495],\n",
    "       [ 1.        ,  1.95126591, 11.27001531],\n",
    "       [ 1.        , -0.76667657,  0.48703998],\n",
    "       [ 1.        ,  0.53937355,  0.91782734],\n",
    "       [ 1.        , -0.22698133,  1.18536598],\n",
    "       [ 1.        , -0.39058305,  1.03621699],\n",
    "       [ 1.        ,  0.96225877,  1.0804548 ],\n",
    "       [ 1.        ,  2.87853267, 32.40471731],\n",
    "       [ 1.        ,  0.63533685,  1.31647006],\n",
    "       [ 1.        ,  2.44918624, 32.26914179],\n",
    "       [ 1.        ,  1.55800428,  1.41965492],\n",
    "       [ 1.        ,  1.58703176, 10.27789785],\n",
    "       [ 1.        ,  2.92302652,  6.32084127],\n",
    "       [ 1.        ,  1.16179168,  8.79339693],\n",
    "       [ 1.        ,  1.01926912,  7.27956453],\n",
    "       [ 1.        ,  1.64074981,  5.30590931],\n",
    "       [ 1.        ,  2.1625751 , 12.70579893],\n",
    "       [ 1.        ,  2.20355391,  6.93546526],\n",
    "       [ 1.        ,  1.80281512,  9.08987516],\n",
    "       [ 1.        ,  0.38185288,  2.08733116],\n",
    "       [ 1.        ,  2.73898669,  6.43298261],\n",
    "       [ 1.        ,  2.33229757, 13.46785592],\n",
    "       [ 1.        ,  2.1515753 ,  3.30175484],\n",
    "       [ 1.        ,  2.08755952,  7.46399068],\n",
    "       [ 1.        ,  2.42536537, 26.4483108 ],\n",
    "       [ 1.        ,  1.22952296,  2.63268864],\n",
    "       [ 1.        ,  2.29617283, 12.01655075],\n",
    "       [ 1.        ,  3.30064721, 11.28460368],\n",
    "       [ 1.        ,  0.98606951,  2.43854265],\n",
    "       [ 1.        ,  1.71111559,  4.78419937],\n",
    "       [ 1.        ,  1.43791364,  2.54852746],\n",
    "       [ 1.        ,  2.06546113,  6.82796588],\n",
    "       [ 1.        ,  2.6042525 , 18.17196626],\n",
    "       [ 1.        ,  2.56193154,  2.67573402],\n",
    "       [ 1.        ,  1.67306091,  2.28230367],\n",
    "       [ 1.        ,  3.07760672, 13.17400532],\n",
    "       [ 1.        ,  0.80343565,  1.95356398],\n",
    "       [ 1.        ,  0.29409223,  1.8304515 ],\n",
    "       [ 1.        ,  4.17743477, 28.43916382],\n",
    "       [ 1.        ,  2.20240356, 14.48263971],\n",
    "       [ 1.        ,  2.75638736,  9.03904178],\n",
    "       [ 1.        ,  1.59509206,  3.23851668],\n",
    "       [ 1.        ,  2.31360137,  8.12523688],\n",
    "       [ 1.        ,  2.25188961,  6.10723549],\n",
    "       [ 1.        ,  1.74848706,  4.97610269],\n",
    "       [ 1.        ,  1.94191761,  6.17617417],\n",
    "       [ 1.        ,  3.23970139, 36.2488673 ],\n",
    "       [ 1.        ,  0.77654359,  1.719952  ],\n",
    "       [ 1.        ,  1.53339444,  7.11126102],\n",
    "       [ 1.        ,  1.44950114,  7.08491125],\n",
    "       [ 1.        ,  1.62476639,  8.74420153],\n",
    "       [ 1.        ,  1.96366438,  8.17721712],\n",
    "       [ 1.        ,  1.79561844,  2.61247159],\n",
    "       [ 1.        ,  1.95348024,  1.6333998 ],\n",
    "       [ 1.        ,  1.86352418,  5.88989936],\n",
    "       [ 1.        ,  2.91729395, 22.77683958],\n",
    "       [ 1.        ,  1.31972857,  2.84750546]])"
   ]
  },
  {
   "cell_type": "markdown",
   "metadata": {},
   "source": [
    "# PS3: Working on Poisson Regression and reshaping the gradient calcuation"
   ]
  },
  {
   "cell_type": "code",
   "execution_count": 17,
   "metadata": {},
   "outputs": [
    {
     "name": "stdout",
     "output_type": "stream",
     "text": [
      "3\n",
      "(3,)\n",
      "(2, 2)\n",
      "[[1 2]\n",
      " [3 4]]\n"
     ]
    },
    {
     "data": {
      "text/plain": [
       "array([4, 6])"
      ]
     },
     "execution_count": 17,
     "metadata": {},
     "output_type": "execute_result"
    }
   ],
   "source": [
    "# our code looks so funky because the problem says we have to do\n",
    "#  **full batch gradient ascent**\n",
    "\n",
    "foo = np.array([1 ,2, 3,])  \n",
    "\n",
    "# just an array that is three long\n",
    "print(len(foo))\n",
    "print(foo.shape)\n",
    "\n",
    "# three by 1 matrix \n",
    "# three rows by 1 column \n",
    "foo.reshape(3, 1).shape\n",
    "\n",
    "bar = np.array([1, 2, 3, 4])\n",
    "\n",
    "bar_reshaped = bar.reshape(2, 2)\n",
    "\n",
    "print(bar_reshaped.shape)\n",
    "print(bar_reshaped)\n",
    "\n",
    "# np.sum(bar_reshaped, axis=0)\n",
    "\n",
    "# sum *down* the columns\n",
    "bar_reshaped.sum(axis=0)\n",
    "\n",
    "# np.exp(bar, out=(2,2))\n",
    "\n",
    "# print(foo)"
   ]
  },
  {
   "cell_type": "code",
   "execution_count": 24,
   "metadata": {},
   "outputs": [
    {
     "data": {
      "text/plain": [
       "-0.9262096826685897"
      ]
     },
     "execution_count": 24,
     "metadata": {},
     "output_type": "execute_result"
    }
   ],
   "source": [
    "from numpy import linalg as LA\n",
    "\n",
    "LA.norm(np.array([1,2])) - LA.norm(np.array([1, 3]))"
   ]
  },
  {
   "cell_type": "code",
   "execution_count": 22,
   "metadata": {},
   "outputs": [
    {
     "data": {
      "text/plain": [
       "1.0"
      ]
     },
     "execution_count": 22,
     "metadata": {},
     "output_type": "execute_result"
    }
   ],
   "source": [
    "LA.norm(np.array([1,2]) - np.array([1,3]))"
   ]
  },
  {
   "cell_type": "code",
   "execution_count": 31,
   "metadata": {},
   "outputs": [],
   "source": [
    "state = []\n",
    "\n",
    "for x in state:\n",
    "    # print(\"this is coef\", coef)\n",
    "    print(\"this is x\", x)"
   ]
  },
  {
   "cell_type": "code",
   "execution_count": 34,
   "metadata": {},
   "outputs": [
    {
     "data": {
      "text/plain": [
       "1"
      ]
     },
     "execution_count": 34,
     "metadata": {},
     "output_type": "execute_result"
    }
   ],
   "source": [
    "# print(\"hello world\")\n",
    "\n",
    "\n",
    "def sign(a):\n",
    "    \"\"\"Gets the sign of a scalar input.\"\"\"\n",
    "    if a >= 0:\n",
    "        return 1\n",
    "    else:\n",
    "        return 0\n",
    "\n",
    "sign(22)"
   ]
  },
  {
   "cell_type": "markdown",
   "metadata": {},
   "source": [
    "# Fashion MNIST Problem scratchpad"
   ]
  },
  {
   "cell_type": "code",
   "execution_count": 16,
   "metadata": {},
   "outputs": [
    {
     "data": {
      "text/plain": [
       "array([[0.00626879, 0.01704033, 0.04632042, 0.93037047],\n",
       "       [0.01203764, 0.08894682, 0.24178252, 0.65723302],\n",
       "       [0.00446236, 0.66227241, 0.24363641, 0.08962882]])"
      ]
     },
     "execution_count": 16,
     "metadata": {},
     "output_type": "execute_result"
    }
   ],
   "source": [
    "import numpy as np\n",
    "\n",
    "def softmax(x):\n",
    "    x = x - np.max(x,axis=1)[:,np.newaxis]\n",
    "    exp = np.exp(x)\n",
    "    s = exp / np.sum(exp,axis=1)[:,np.newaxis]\n",
    "    return s\n",
    "\n",
    "\n",
    "overflow_test = np.array([[10000, 10010, 10]])\n",
    "softmax([[22, 14, 16]])\n",
    "\n",
    "softmax(overflow_test)\n",
    "\n",
    "# correct solution:\n",
    "def softmax_from_stackoverflow(x):\n",
    "    \"\"\"Compute softmax values for each sets of scores in x.\"\"\"\n",
    "    e_x = np.exp(x - np.max(x))\n",
    "    return e_x / e_x.sum(axis=0) # only difference\n",
    "\n",
    "# def softmax_2(x):\n",
    "# my (correct) solution:\n",
    "def softmax_2(z):\n",
    "    assert len(z.shape) == 2\n",
    "    s = np.max(z, axis=1)\n",
    "    s = s[:, np.newaxis] # necessary step to do broadcasting\n",
    "    e_x = np.exp(z - s)\n",
    "    div = np.sum(e_x, axis=1)\n",
    "    div = div[:, np.newaxis] # dito\n",
    "    return e_x / div\n",
    "\n",
    "# BOOM -- this seems like it has the same result and just needs keepdims argument! \n",
    "def softmax_3(z):\n",
    "    return np.exp(z) / np.sum(np.exp(z), axis=1, keepdims=True)\n",
    "\n",
    "\n",
    "\n",
    "# softmax_from_stackoverflow(overflow_test)\n",
    "\n",
    "scores2D = np.array([[1, 2, 3, 6],\n",
    "                     [2, 4, 5, 6],\n",
    "                     [3, 8, 7, 6]])\n",
    "\n",
    "# softmax_from_stackoverflow(scores2D)\n",
    "softmax(scores2D)\n",
    "\n",
    "softmax_2(scores2D)\n",
    "\n",
    "softmax_3(scores2D)"
   ]
  },
  {
   "cell_type": "code",
   "execution_count": 31,
   "metadata": {},
   "outputs": [
    {
     "name": "stdout",
     "output_type": "stream",
     "text": [
      "[[0. 0.]]\n",
      "[0. 0.]\n"
     ]
    }
   ],
   "source": [
    "def foo():\n",
    "    return (\"foo\", \"bar\", \"baz\")\n",
    "\n",
    "foo, bar, baz = foo()\n",
    "\n",
    "# print(baz)\n",
    "\n",
    "input_size = 2\n",
    "num_hidden = 2\n",
    "num_output = 2\n",
    "\n",
    "\n",
    "W1 = np.random.normal(size = (input_size, num_hidden))\n",
    "b1 = np.zeros((1, num_hidden)) \n",
    "W2 = np.random.normal(size = (num_hidden, num_output)),  \n",
    "b2= np.zeros((1, num_output))\n",
    "dict(W1=W1, b1=b1, W2=W2, b2=b2)\n",
    "\n",
    "working = {\n",
    "        'W1': np.random.normal(size = (input_size, num_hidden)),\n",
    "        'b1': np.zeros(num_hidden),\n",
    "        'W2': np.random.normal(size = (num_hidden, 10)),\n",
    "        'b2': np.zeros(10)\n",
    "    }\n",
    "\n",
    "# print(working)\n",
    "\n",
    "b1 = np.zeros((1, 2))\n",
    "print(b1)\n",
    "\n",
    "b1_again = np.zeros(2)\n",
    "print(b1_again)\n"
   ]
  },
  {
   "cell_type": "markdown",
   "metadata": {},
   "source": [
    "# Naive Bayes Classifier "
   ]
  },
  {
   "cell_type": "code",
   "execution_count": 74,
   "metadata": {},
   "outputs": [
    {
     "data": {
      "text/plain": [
       "{'puttin': 1, 'fone': 2}"
      ]
     },
     "execution_count": 74,
     "metadata": {},
     "output_type": "execute_result"
    }
   ],
   "source": [
    "ham = \"THANX 4 PUTTIN DA FONE DOWN ON ME!\"\n",
    "ham2 = \"So how are you really. What are you up to. How's the masters. And so on.\"\n",
    "\n",
    "ham_split = ham.lower().split()\n",
    "\n",
    "# would have to be a dict so we can lookup words \n",
    "ham_split\n",
    "word_count_dict = {}\n",
    "\n",
    "for word in ham_split:\n",
    "    # temp = dictionary.get(word, 0)\n",
    "    # dictionary[word] += 1\n",
    "\n",
    "    if word in word_count_dict:\n",
    "        word_count_dict[word] += 1\n",
    "    else:\n",
    "        word_count_dict[word] = 1\n",
    "    \n",
    "    # dictionary.setdefault(word, 1)\n",
    "\n",
    "# filter this dict if count > 5 \n",
    "# for key, value in dictionary.items():\n",
    "#     print(key)\n",
    "#     print(value)\n",
    "\n",
    "word_count_dict.items()\n",
    "\n",
    "word_count_dict[\"puttin\"] = 22\n",
    "word_count_dict[\"fone\"] = 12\n",
    "\n",
    "\n",
    "word_count_dict_filtered = dict(filter(lambda item: item[1] > 10, word_count_dict.items()))\n",
    "# foo = list(filter(lambda item: item[1] > 10, dictionary.items()))\n",
    "\n",
    "word_dict = {}\n",
    "idx = 0\n",
    "for key, _ in word_count_dict_filtered.items():\n",
    "    idx += 1\n",
    "    word_dict[key] = idx\n",
    "\n",
    "# dictionary\n",
    "word_dict"
   ]
  },
  {
   "cell_type": "code",
   "execution_count": 55,
   "metadata": {},
   "outputs": [
    {
     "name": "stdout",
     "output_type": "stream",
     "text": [
      "Filter dictionary: {8: 'u', 9: 'z', 10: 'j'}\n"
     ]
    }
   ],
   "source": [
    "my_dict = {8:'u',4:'t',9:'z',10:'j',5:'k',3:'s'}\n",
    "\n",
    "new_filt = dict(filter(lambda val: val[0] > 5, my_dict.items()))\n",
    "print(\"Filter dictionary:\",new_filt)\n",
    "\n",
    "\n"
   ]
  },
  {
   "cell_type": "code",
   "execution_count": null,
   "metadata": {},
   "outputs": [],
   "source": [
    "word_dict = {}\n",
    "for message in messages:\n",
    "    # word_list = get_words(message)\n",
    "    for word in word_list:\n",
    "        if word in word_dict:\n",
    "            word_dict[word] += 1\n",
    "        else:\n",
    "            word_dict[word] = 1"
   ]
  },
  {
   "cell_type": "code",
   "execution_count": null,
   "metadata": {},
   "outputs": [],
   "source": [
    "N, V = len(messages), len(word_dictionary)\n",
    "data = np.zeros((N, V))\n",
    "for i, m in enumerate(messages):\n",
    "    for w in get_words(m):\n",
    "        if w in word_dictionary:\n",
    "            data[i, word_dictionary[w]] += 1\n",
    "return data"
   ]
  },
  {
   "cell_type": "code",
   "execution_count": 78,
   "metadata": {},
   "outputs": [
    {
     "ename": "NameError",
     "evalue": "name 'word_count' is not defined",
     "output_type": "error",
     "traceback": [
      "\u001b[0;31m---------------------------------------------------------------------------\u001b[0m",
      "\u001b[0;31mNameError\u001b[0m                                 Traceback (most recent call last)",
      "\u001b[1;32m/Users/johnnydevriese/projects/jupyter/cs229-scratchpad.ipynb Cell 22'\u001b[0m in \u001b[0;36m<cell line: 7>\u001b[0;34m()\u001b[0m\n\u001b[1;32m      <a href='vscode-notebook-cell:/Users/johnnydevriese/projects/jupyter/cs229-scratchpad.ipynb#ch0000024?line=2'>3</a>\u001b[0m np\u001b[39m.\u001b[39mzeros((\u001b[39m1\u001b[39m, word_num))\n\u001b[1;32m      <a href='vscode-notebook-cell:/Users/johnnydevriese/projects/jupyter/cs229-scratchpad.ipynb#ch0000024?line=4'>5</a>\u001b[0m word_array \u001b[39m=\u001b[39m np\u001b[39m.\u001b[39marray([])\u001b[39m.\u001b[39mreshape(\u001b[39m0\u001b[39m, word_num)\n\u001b[0;32m----> <a href='vscode-notebook-cell:/Users/johnnydevriese/projects/jupyter/cs229-scratchpad.ipynb#ch0000024?line=6'>7</a>\u001b[0m word_array \u001b[39m=\u001b[39m np\u001b[39m.\u001b[39mvstack([word_array, word_count])\n",
      "\u001b[0;31mNameError\u001b[0m: name 'word_count' is not defined"
     ]
    }
   ],
   "source": [
    "word_num = 10\n",
    "\n",
    "np.zeros((1, word_num))\n",
    "\n",
    "word_array = np.array([]).reshape(0, word_num)\n",
    "\n",
    "word_array = np.vstack([word_array, word_count])"
   ]
  },
  {
   "cell_type": "code",
   "execution_count": 86,
   "metadata": {},
   "outputs": [
    {
     "data": {
      "text/plain": [
       "array([[1, 2, 3]])"
      ]
     },
     "execution_count": 86,
     "metadata": {},
     "output_type": "execute_result"
    }
   ],
   "source": [
    "np.ones((2, 3)).sum(axis=0)\n",
    "\n",
    "\n",
    "np.array([[1 ,2, 3], [4, 5, 6]]).sum(axis=0) # sums column wise. \n",
    "\n",
    "np.array([[1 ,2, 3], [4, 5, 6]]).sum(axis=1) # sums row wise. \n",
    "\n",
    "\n",
    "foo = np.array([[1 ,2, 3], [4, 5, 6]])\n",
    "\n",
    "foo[0:1,:]"
   ]
  },
  {
   "cell_type": "code",
   "execution_count": 8,
   "metadata": {},
   "outputs": [
    {
     "data": {
      "text/plain": [
       "[[0, 0, 0, 0, 0, 0, 0, 0, 0, 0],\n",
       " [0, 1, 2, 3, 4, 5, 6, 7, 8, 9],\n",
       " [0, 2, 4, 6, 8, 10, 12, 14, 16, 18],\n",
       " [0, 3, 6, 9, 12, 15, 18, 21, 24, 27],\n",
       " [0, 4, 8, 12, 16, 20, 24, 28, 32, 36],\n",
       " [0, 5, 10, 15, 20, 25, 30, 35, 40, 45],\n",
       " [0, 6, 12, 18, 24, 30, 36, 42, 48, 54],\n",
       " [0, 7, 14, 21, 28, 35, 42, 49, 56, 63],\n",
       " [0, 8, 16, 24, 32, 40, 48, 56, 64, 72],\n",
       " [0, 9, 18, 27, 36, 45, 54, 63, 72, 81]]"
      ]
     },
     "execution_count": 8,
     "metadata": {},
     "output_type": "execute_result"
    }
   ],
   "source": [
    "# [i for i in range(10) for j in range(10)] \n",
    "\n",
    "[[i*j for i in range(10)] for j in range(10)]\n",
    "# p_x_given_z(x[i], mu[j], sigma[j]) * phi[j] \n",
    "\n",
    "#     for i in range(n):\n",
    "#         for j in range(k):\n",
    "\n",
    "[[p_x_given_z(x[i], mu[j], sigma[j]) * phi[j] for i in range(n) for j in range(k)]]"
   ]
  }
 ],
 "metadata": {
  "kernelspec": {
   "display_name": "Python 3.10.5 ('pytorch-nightly')",
   "language": "python",
   "name": "python3"
  },
  "language_info": {
   "codemirror_mode": {
    "name": "ipython",
    "version": 3
   },
   "file_extension": ".py",
   "mimetype": "text/x-python",
   "name": "python",
   "nbconvert_exporter": "python",
   "pygments_lexer": "ipython3",
   "version": "3.10.5"
  },
  "orig_nbformat": 4,
  "vscode": {
   "interpreter": {
    "hash": "8a8bcccfb183d1298694efece6cf41240378bc61621e95c864629a40c5876542"
   }
  }
 },
 "nbformat": 4,
 "nbformat_minor": 2
}
